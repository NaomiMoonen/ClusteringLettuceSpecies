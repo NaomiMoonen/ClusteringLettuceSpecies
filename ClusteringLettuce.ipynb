{
 "cells": [
  {
   "cell_type": "code",
   "execution_count": 2,
   "id": "a84f73ac",
   "metadata": {},
   "outputs": [],
   "source": [
    "import pandas as pd\n",
    "import statistics\n",
    "import numpy as np\n",
    "from sklearn import preprocessing, cluster, metrics, decomposition\n",
    "import matplotlib.pyplot as plt\n",
    "import kneed\n",
    "from scipy.cluster.hierarchy import dendrogram"
   ]
  },
  {
   "cell_type": "markdown",
   "id": "790394ee",
   "metadata": {},
   "source": [
    "https://realpython.com/k-means-clustering-python/ <br>\n",
    "https://towardsdatascience.com/interpretable-k-means-clusters-feature-importances-7e516eeb8d3c"
   ]
  },
  {
   "cell_type": "markdown",
   "id": "047841be",
   "metadata": {},
   "source": [
    "# Data Preparations"
   ]
  },
  {
   "cell_type": "markdown",
   "id": "25777b2c",
   "metadata": {},
   "source": [
    "Import data from an Excel file."
   ]
  },
  {
   "cell_type": "code",
   "execution_count": null,
   "id": "84afcafe",
   "metadata": {},
   "outputs": [],
   "source": [
    "#Import the data file\n",
    "data = pd.read_excel('../LettuceData.xlsx')"
   ]
  },
  {
   "cell_type": "code",
   "execution_count": null,
   "id": "2f749186",
   "metadata": {},
   "outputs": [],
   "source": [
    "#View column names\n",
    "data.columns"
   ]
  },
  {
   "cell_type": "code",
   "execution_count": null,
   "id": "d05ee6a1",
   "metadata": {
    "scrolled": true
   },
   "outputs": [],
   "source": [
    "#View data\n",
    "data"
   ]
  },
  {
   "cell_type": "markdown",
   "id": "64899675",
   "metadata": {},
   "source": [
    "Experiments were run multiple times per lettuce type. Average the experiment values per lettuce type. Create a dataframe with the lettuce name as index, the experiment type as column name and the average value for this experiment for a lettuce type as value."
   ]
  },
  {
   "cell_type": "code",
   "execution_count": null,
   "id": "66eef91f",
   "metadata": {
    "scrolled": true
   },
   "outputs": [],
   "source": [
    "experiments = set(data['Experiment'].values) #Get all the different experiments\n",
    "sla = [i for i in list(data.columns) if i not in ['Experiment','Number']] #Get lettuce names\n",
    "dt = pd.DataFrame(index=sla,columns = experiments) #Format dataframe with lettuce names as row index and experiments as columns\n",
    "\n",
    "#Iterate over the experiments and lettuces\n",
    "#Calculate and assign the mean of different runs of experiments per lettuce\n",
    "for e in experiments:\n",
    "    for s in sla:\n",
    "            numbers = set(data[data['Experiment']==e]['Number'].values)\n",
    "            value = np.nanmean(list(data[data['Experiment']==e][s].values))\n",
    "            dt.at[s,e] = value"
   ]
  },
  {
   "cell_type": "code",
   "execution_count": null,
   "id": "057e1085",
   "metadata": {},
   "outputs": [],
   "source": [
    "#View the new dataframe\n",
    "dt"
   ]
  },
  {
   "cell_type": "markdown",
   "id": "83ed0aab",
   "metadata": {},
   "source": [
    "Data ranges of the experiments varied a lot. Therefore, values for each experiment were scaled to the range [0, 1]. The smallest value was assigned 0, the largest 1 and the other values were scaled proportionally between this minimum and maximum.  "
   ]
  },
  {
   "cell_type": "code",
   "execution_count": null,
   "id": "731cd6b6",
   "metadata": {},
   "outputs": [],
   "source": [
    "#Scale the values in each column between 0 and 1\n",
    "#Replace the original values with the scaled values\n",
    "x = dt.values\n",
    "min_max_scaler = preprocessing.MinMaxScaler()\n",
    "x_scaled = min_max_scaler.fit_transform(x)\n",
    "dt = pd.DataFrame(x_scaled, index=dt.index, columns = dt.columns)"
   ]
  },
  {
   "cell_type": "code",
   "execution_count": null,
   "id": "50f20b35",
   "metadata": {},
   "outputs": [],
   "source": [
    "#View the dataframe\n",
    "dt"
   ]
  },
  {
   "cell_type": "markdown",
   "id": "3cacc8f6",
   "metadata": {},
   "source": [
    "# K-means clustering"
   ]
  },
  {
   "cell_type": "markdown",
   "id": "946a54e9",
   "metadata": {},
   "source": [
    "Apply K-means clustering to the dataset, try models with 1 up to 10 clusters"
   ]
  },
  {
   "cell_type": "code",
   "execution_count": null,
   "id": "50a9825d",
   "metadata": {},
   "outputs": [],
   "source": [
    "#Initialize the k means model\n",
    "kmeans_kwargs = {\"init\": \"random\",\"n_init\": 10,\"max_iter\": 300,\"random_state\": 42,} \n",
    "# A list to hold the SSE values for each k\n",
    "sse = []\n",
    "#Create models with 1 up to 10 clusters\n",
    "for k in range(1, 11):\n",
    "    kmeans = cluster.KMeans(n_clusters=k, **kmeans_kwargs)\n",
    "    kmeans.fit(dt)\n",
    "    sse.append(kmeans.inertia_)"
   ]
  },
  {
   "cell_type": "code",
   "execution_count": null,
   "id": "30f8fae2",
   "metadata": {},
   "outputs": [],
   "source": [
    "#Plot the squared sum of distances for each model with a different number k, i.e. different number of clusters\n",
    "plt.style.use(\"fivethirtyeight\")\n",
    "plt.plot(range(1, 11), sse)\n",
    "plt.xticks(range(1,11))\n",
    "plt.xlabel(\"Number of Clusters\")\n",
    "plt.ylabel(\"SSE\")\n",
    "plt.show()"
   ]
  },
  {
   "cell_type": "code",
   "execution_count": null,
   "id": "986e5836",
   "metadata": {},
   "outputs": [],
   "source": [
    "#Sum of squared errors\n",
    "sse"
   ]
  },
  {
   "cell_type": "markdown",
   "id": "d5523448",
   "metadata": {},
   "source": [
    "Determine the best number of clusters for this dataset with the elbow method."
   ]
  },
  {
   "cell_type": "code",
   "execution_count": null,
   "id": "c63094db",
   "metadata": {},
   "outputs": [],
   "source": [
    "#Using the elbow method, find the point of inflection\n",
    "kl = kneed.KneeLocator(range(1, 11), sse, curve=\"convex\", direction=\"decreasing\")\n",
    "kl.elbow"
   ]
  },
  {
   "cell_type": "markdown",
   "id": "0dd132ed",
   "metadata": {},
   "source": [
    "To verify the choice for this number of clusters, the Silhouette score can also be computed. It quantifies how well data points are clusterd by comparing data points that are similar to each other based on intra-cluster distances and nearest-cluster distances."
   ]
  },
  {
   "cell_type": "code",
   "execution_count": null,
   "id": "c478f238",
   "metadata": {},
   "outputs": [],
   "source": [
    "silhouette_coefficients = [] #List to store silhouette coeficients of each model\n",
    "# Notice you start at 2 clusters for silhouette coefficient\n",
    "for k in range(2, 11):\n",
    "    kmeans = cluster.KMeans(n_clusters=k, **kmeans_kwargs)\n",
    "    kmeans.fit(dt)\n",
    "    score = metrics.silhouette_score(dt, kmeans.labels_)\n",
    "    silhouette_coefficients.append(score)"
   ]
  },
  {
   "cell_type": "code",
   "execution_count": null,
   "id": "0a7fb6c2",
   "metadata": {},
   "outputs": [],
   "source": [
    "#Plot the silhouette coefficients for each model with a different number k, i.e. different number of clusters\n",
    "plt.style.use(\"fivethirtyeight\")\n",
    "plt.plot(range(2, 11), silhouette_coefficients)\n",
    "plt.xticks(range(2, 11))\n",
    "plt.xlabel(\"Number of Clusters\")\n",
    "plt.ylabel(\"Silhouette Coefficient\")\n",
    "plt.show()"
   ]
  },
  {
   "cell_type": "code",
   "execution_count": null,
   "id": "b4c38e91",
   "metadata": {},
   "outputs": [],
   "source": [
    "silhouette_coefficients"
   ]
  },
  {
   "cell_type": "markdown",
   "id": "5c3cd1cc",
   "metadata": {},
   "source": [
    "# Create Cluster Model"
   ]
  },
  {
   "cell_type": "markdown",
   "id": "8a006c81",
   "metadata": {},
   "source": [
    "3 clusters seems to be the best choice based on both the elbow method and the silhouette coefficient analysis.\n",
    "Therefore, create a k-means clustering model with 3 clusters"
   ]
  },
  {
   "cell_type": "code",
   "execution_count": null,
   "id": "a7cd103d",
   "metadata": {},
   "outputs": [],
   "source": [
    "kmeans = cluster.KMeans(n_clusters=3, **kmeans_kwargs)\n",
    "kms = kmeans.fit(dt)"
   ]
  },
  {
   "cell_type": "code",
   "execution_count": null,
   "id": "9b29467d",
   "metadata": {},
   "outputs": [],
   "source": [
    "#Get the cluster to which each data point belongs and add it to the dataframe\n",
    "kms.labels_\n",
    "dt['Cluster'] = kms.labels_"
   ]
  },
  {
   "cell_type": "code",
   "execution_count": null,
   "id": "19988090",
   "metadata": {},
   "outputs": [],
   "source": [
    "#Print dataframe with the cluster label in the final column\n",
    "dt"
   ]
  },
  {
   "cell_type": "markdown",
   "id": "f3a1f493",
   "metadata": {},
   "source": [
    "Visualize the clusters by plotting each type of lettuce on two features/experiments. The 3 different clusters are represented by 3 different colors."
   ]
  },
  {
   "cell_type": "code",
   "execution_count": null,
   "id": "69f19a4c",
   "metadata": {
    "scrolled": true
   },
   "outputs": [],
   "source": [
    "#Plot clusters for each possible combination of 2 features (2 experiments) and assign a color to each cluster\n",
    "features = list(dt.columns)[:-1]\n",
    "for i in range(0,len(features)):\n",
    "    for j in range(i,len(features)):\n",
    "        f1 = (features[i])\n",
    "        f2 = (features[j])\n",
    "        if f1 != f2:\n",
    "            fig = plt.figure()\n",
    "            ax = fig.add_subplot(111)\n",
    "            scatter = ax.scatter(dt[f1],dt[f2],c=dt['Cluster'],s=50)\n",
    "            ax.set_title('K-Means Clustering')\n",
    "            ax.set_xlabel(f1)\n",
    "            ax.set_ylabel(f2)\n",
    "            plt.colorbar(scatter)"
   ]
  },
  {
   "cell_type": "code",
   "execution_count": null,
   "id": "0d1feea7",
   "metadata": {},
   "outputs": [],
   "source": [
    "#Print the feature names\n",
    "features = dt.columns.tolist()[0:-1]\n",
    "print(f\"Features: \\n{features}\")\n",
    "\n",
    "#Print the centroids' values for the features. Centroids are the middle points in the clusters\n",
    "centroids = kms.cluster_centers_\n",
    "print(f\"Centroids \\n{centroids}\")"
   ]
  },
  {
   "cell_type": "code",
   "execution_count": null,
   "id": "c1f058d5",
   "metadata": {},
   "outputs": [],
   "source": [
    "#View for each centroid the features in descending order (feature with highest value for that centroid first) \n",
    "sorted_centroid_features_idx = centroids.argsort(axis=1)[:,::-1]\n",
    "print(f\"Sorted Feature/Dimension Indexes for Each Centroid in Descending Order: \\n{sorted_centroid_features_idx}\")\n",
    "\n",
    "print()\n",
    "\n",
    "#Print for each centroid the feature name and value in descending order of feature value\n",
    "sorted_centroid_features_values = np.take_along_axis(centroids, sorted_centroid_features_idx, axis=1)\n",
    "\n",
    "print('Centroids with features and values in descending order:')\n",
    "\n",
    "first_features_in_centroid_1 = centroids[0][sorted_centroid_features_idx[0]]\n",
    "print(list(zip([features[feature] for feature in sorted_centroid_features_idx[0]],first_features_in_centroid_1)))\n",
    "\n",
    "print()\n",
    "\n",
    "first_features_in_centroid_2 = centroids[1][sorted_centroid_features_idx[1]]\n",
    "print(list(zip([features[feature] for feature in sorted_centroid_features_idx[1]],first_features_in_centroid_2)))\n",
    "\n",
    "print()\n",
    "\n",
    "first_features_in_centroid_3 = centroids[2][sorted_centroid_features_idx[2]]\n",
    "print(list(zip([features[feature] for feature in sorted_centroid_features_idx[2]],first_features_in_centroid_3)))"
   ]
  },
  {
   "cell_type": "markdown",
   "id": "d78c28c3",
   "metadata": {},
   "source": [
    "# Hierarchical Clustering"
   ]
  },
  {
   "cell_type": "markdown",
   "id": "bd6dd884",
   "metadata": {},
   "source": [
    "Also visualize the 3 clusters using agglomerative hierarchical clustering. Initially every data point is its own cluster and every time the two clusters that are most similar are merged into 1 cluster."
   ]
  },
  {
   "cell_type": "code",
   "execution_count": null,
   "id": "74543bf3",
   "metadata": {},
   "outputs": [],
   "source": [
    "#Function to plot the dendogram of the hierarchical clustering\n",
    "def plot_dendrogram(model, **kwargs):\n",
    "    # Create linkage matrix and then plot the dendrogram\n",
    "\n",
    "    # create the counts of samples under each node\n",
    "    counts = np.zeros(model.children_.shape[0])\n",
    "    n_samples = len(model.labels_)\n",
    "    for i, merge in enumerate(model.children_):\n",
    "        current_count = 0\n",
    "        for child_idx in merge:\n",
    "            if child_idx < n_samples:\n",
    "                current_count += 1  # leaf node\n",
    "            else:\n",
    "                current_count += counts[child_idx - n_samples]\n",
    "        counts[i] = current_count\n",
    "\n",
    "    linkage_matrix = np.column_stack(\n",
    "        [model.children_, model.distances_, counts]\n",
    "    ).astype(float)\n",
    "    print(linkage_matrix)\n",
    "    # Plot the corresponding dendrogram\n",
    "    dendrogram(linkage_matrix,leaf_rotation=90,labels=['Medium Supermarkt','Butterhead','Lollo Rosso','Red iceberg',\n",
    "                                                       'Stalk Lettuce','Medium Selfgrown','L. sativa cv. Olof',\n",
    "                                                       'L. sativa cv Salinas','L. serriola','L. saligna','L. virosa'], **kwargs)"
   ]
  },
  {
   "cell_type": "code",
   "execution_count": null,
   "id": "f7df2f79",
   "metadata": {},
   "outputs": [],
   "source": [
    "hclust_dist = []\n",
    "#for k in range(1, 11):\n",
    "hclust = cluster.AgglomerativeClustering(n_clusters=3).fit(dt)\n",
    "print(hclust.n_clusters_)\n",
    "hclust = cluster.AgglomerativeClustering(n_clusters=3,compute_distances=True).fit(dt)\n",
    "plot_dendrogram(hclust)"
   ]
  },
  {
   "cell_type": "code",
   "execution_count": null,
   "id": "5c1458dd",
   "metadata": {},
   "outputs": [],
   "source": [
    "#Add the hierarchical clustering labels to the dataset\n",
    "dt_withlabels = dt.copy()\n",
    "dt_withlabels['Agglomerative clusters'] = hclust.labels_"
   ]
  },
  {
   "cell_type": "code",
   "execution_count": null,
   "id": "6d25d7eb",
   "metadata": {},
   "outputs": [],
   "source": [
    "#Print the dataframe with the hierarchical cluster labels in the final column\n",
    "dt_withlabels"
   ]
  },
  {
   "cell_type": "markdown",
   "id": "d2390ff8",
   "metadata": {},
   "source": [
    "# Principal Component Analysis"
   ]
  },
  {
   "cell_type": "markdown",
   "id": "e7cd49b3",
   "metadata": {},
   "source": [
    "Reduce the information from all the experiments to two dimensions using Principal Component Analysis (PCA) to be able to plot it in a two-dimensional graph."
   ]
  },
  {
   "cell_type": "code",
   "execution_count": null,
   "id": "85c339ad",
   "metadata": {},
   "outputs": [],
   "source": [
    "#Reduce the information contained in all features to 2 dimensions\n",
    "pca = decomposition.PCA(n_components=2,svd_solver='full')\n",
    "dt_sub = dt.drop(columns=['Cluster'])"
   ]
  },
  {
   "cell_type": "code",
   "execution_count": null,
   "id": "06b57967",
   "metadata": {},
   "outputs": [],
   "source": [
    "#Apply pca to the average scaled experiment values\n",
    "X_sub = dt_sub.values\n",
    "X_pca = pca.fit_transform(X_sub)\n",
    "print('PCA explained variance ratio {}'.format(pca.explained_variance_ratio_))\n",
    "print('PCA singular values {}'.format(pca.singular_values_))"
   ]
  },
  {
   "cell_type": "code",
   "execution_count": null,
   "id": "5994f0c5",
   "metadata": {},
   "outputs": [],
   "source": [
    "dt_pca = pd.DataFrame(X_pca,columns=['Dimension 1','Dimension 2'])\n",
    "dt_pca['Cluster'] = dt['Cluster'].values"
   ]
  },
  {
   "cell_type": "code",
   "execution_count": null,
   "id": "dc296ab4",
   "metadata": {},
   "outputs": [],
   "source": [
    "dt_pca"
   ]
  },
  {
   "cell_type": "code",
   "execution_count": null,
   "id": "7da59e30",
   "metadata": {},
   "outputs": [],
   "source": [
    "#Plot the 2 dimensions and assign a color to each cluster\n",
    "fig = plt.figure()\n",
    "ax = fig.add_subplot(111)\n",
    "scatter = ax.scatter(dt_pca['Dimension 1'],dt_pca['Dimension 2'],c=dt_pca['Cluster'],s=50)\n",
    "ax.set_title('PCA')\n",
    "ax.set_xlabel('Dimension 1')\n",
    "ax.set_ylabel('Dimension 2')\n",
    "plt.colorbar(scatter)"
   ]
  }
 ],
 "metadata": {
  "kernelspec": {
   "display_name": "Python 3",
   "language": "python",
   "name": "python3"
  },
  "language_info": {
   "codemirror_mode": {
    "name": "ipython",
    "version": 3
   },
   "file_extension": ".py",
   "mimetype": "text/x-python",
   "name": "python",
   "nbconvert_exporter": "python",
   "pygments_lexer": "ipython3",
   "version": "3.8.8"
  }
 },
 "nbformat": 4,
 "nbformat_minor": 5
}
